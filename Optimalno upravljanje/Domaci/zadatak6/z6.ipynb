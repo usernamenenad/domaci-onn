{
 "cells": [
  {
   "cell_type": "markdown",
   "metadata": {},
   "source": [
    "## Numeričko iznalaženje optimalne strategije upravljanja, bez ograničenja na upravljanje\n"
   ]
  },
  {
   "cell_type": "markdown",
   "metadata": {},
   "source": [
    "### Postavka problema\n",
    "\n",
    "Numerički izračunati optimalnu strategiju upravljanja i kretanje u prostoru stanja. Proces je opisan diferencijalnom jednačinom\n",
    "\n",
    "$$\\ddot{x} - x = u$$\n",
    "\n",
    "uz početne uslove $\\mathbf{x}(0) = 1$. Kriterijum optimalnosti je u sledećoj formi\n",
    "\n",
    "$$\\int_{0}^{1}{u^{2} \\text{ } dt}$$\n"
   ]
  },
  {
   "cell_type": "code",
   "execution_count": 1,
   "metadata": {},
   "outputs": [],
   "source": [
    "import numpy as np\n",
    "import matplotlib.pyplot as plt\n",
    "import warnings\n",
    "\n",
    "warnings.filterwarnings(\"ignore\")"
   ]
  },
  {
   "cell_type": "code",
   "execution_count": 2,
   "metadata": {},
   "outputs": [],
   "source": [
    "Ts = 0.001\n",
    "ts = 0\n",
    "tf = 1\n",
    "t = np.arange(ts, tf + Ts, Ts)\n",
    "\n",
    "N = len(t)"
   ]
  },
  {
   "cell_type": "code",
   "execution_count": 3,
   "metadata": {},
   "outputs": [],
   "source": [
    "x1_0 = 1\n",
    "x2_0 = 1\n",
    "\n",
    "x = np.zeros((N, 2))\n",
    "x[0, 0] = x1_0\n",
    "x[0, 1] = x2_0\n",
    "\n",
    "p = np.zeros((N, 2))\n",
    "u = np.ones((N, 1))  # Inicijalno pogađanje upravljanja"
   ]
  },
  {
   "cell_type": "code",
   "execution_count": 4,
   "metadata": {},
   "outputs": [],
   "source": [
    "def dot_x1(x: np.ndarray, u: np.float64) -> np.float64:\n",
    "    return x[1]\n",
    "\n",
    "\n",
    "def dot_x2(x: np.ndarray, u: np.float64) -> np.float64:\n",
    "    return x[0] + u"
   ]
  },
  {
   "cell_type": "code",
   "execution_count": 5,
   "metadata": {},
   "outputs": [],
   "source": [
    "def dot_p1(x: np.ndarray, p: np.ndarray, u: np.float64) -> np.float64:\n",
    "    return -p[1]\n",
    "\n",
    "\n",
    "def dot_p2(x: np.ndarray, p: np.ndarray, u: np.float64) -> np.float64:\n",
    "    return -p[0]"
   ]
  },
  {
   "cell_type": "code",
   "execution_count": null,
   "metadata": {},
   "outputs": [
    {
     "name": "stdout",
     "output_type": "stream",
     "text": [
      "Iteration 1...\n",
      "Iteration 2...\n",
      "Iteration 3...\n",
      "Iteration 4...\n",
      "Iteration 5...\n",
      "Iteration 6...\n",
      "Iteration 7...\n",
      "Iteration 8...\n",
      "Iteration 9...\n",
      "Iteration 10...\n",
      "Iteration 11...\n",
      "Iteration 12...\n",
      "Iteration 13...\n",
      "Iteration 14...\n",
      "Iteration 15...\n",
      "Iteration 16...\n",
      "Iteration 17...\n",
      "Iteration 18...\n",
      "Iteration 19...\n",
      "Iteration 20...\n",
      "Iteration 21...\n",
      "Iteration 22...\n",
      "Iteration 23...\n",
      "Iteration 24...\n",
      "Iteration 25...\n",
      "Iteration 26...\n",
      "Iteration 27...\n",
      "Iteration 28...\n",
      "Iteration 29...\n",
      "Iteration 30...\n",
      "Iteration 31...\n",
      "Iteration 32...\n",
      "Iteration 33...\n",
      "Iteration 34...\n",
      "Iteration 35...\n",
      "Iteration 36...\n",
      "Iteration 37...\n",
      "Iteration 38...\n",
      "Iteration 39...\n",
      "Iteration 40...\n",
      "Iteration 41...\n",
      "Iteration 42...\n",
      "Iteration 43...\n",
      "Iteration 44...\n",
      "Iteration 45...\n",
      "Iteration 46...\n",
      "Iteration 47...\n",
      "Iteration 48...\n",
      "Iteration 49...\n",
      "Iteration 50...\n",
      "Iteration 51...\n",
      "Iteration 52...\n",
      "Iteration 53...\n",
      "Iteration 54...\n",
      "Iteration 55...\n",
      "Iteration 56...\n",
      "Iteration 57...\n",
      "Iteration 58...\n",
      "Iteration 59...\n",
      "Iteration 60...\n",
      "Iteration 61...\n",
      "Iteration 62...\n",
      "Iteration 63...\n",
      "Iteration 64...\n",
      "Iteration 65...\n",
      "Iteration 66...\n",
      "Iteration 67...\n",
      "Iteration 68...\n",
      "Iteration 69...\n",
      "Iteration 70...\n",
      "Iteration 71...\n",
      "Iteration 72...\n",
      "Iteration 73...\n",
      "Iteration 74...\n",
      "Iteration 75...\n",
      "Iteration 76...\n",
      "Iteration 77...\n",
      "Iteration 78...\n",
      "Iteration 79...\n",
      "Iteration 80...\n",
      "Iteration 81...\n",
      "Iteration 82...\n",
      "Iteration 83...\n",
      "Iteration 84...\n",
      "Iteration 85...\n",
      "Iteration 86...\n",
      "Iteration 87...\n",
      "Iteration 88...\n",
      "Iteration 89...\n",
      "Iteration 90...\n",
      "Iteration 91...\n",
      "Iteration 92...\n",
      "Iteration 93...\n",
      "Iteration 94...\n",
      "Iteration 95...\n",
      "Iteration 96...\n",
      "Iteration 97...\n",
      "Iteration 98...\n",
      "Iteration 99...\n",
      "Iteration 100...\n",
      "Iteration 101...\n",
      "Iteration 102...\n",
      "Iteration 103...\n",
      "Iteration 104...\n",
      "Iteration 105...\n",
      "Iteration 106...\n",
      "Iteration 107...\n",
      "Iteration 108...\n",
      "Iteration 109...\n",
      "Iteration 110...\n",
      "Iteration 111...\n",
      "Iteration 112...\n",
      "Iteration 113...\n",
      "Iteration 114...\n",
      "Iteration 115...\n",
      "Iteration 116...\n",
      "Iteration 117...\n",
      "Iteration 118...\n",
      "Iteration 119...\n",
      "Iteration 120...\n"
     ]
    }
   ],
   "source": [
    "eps = 1e-5\n",
    "iters = 0\n",
    "w = 0.9\n",
    "\n",
    "while iters <= 1000:\n",
    "    iters += 1\n",
    "    print(f\"Iteration {iters}...\")\n",
    "    u_old = u.copy()\n",
    "\n",
    "    for k in range(N - 1):\n",
    "        xp_1 = x[k, 0] + Ts * dot_x1(x[k], u[k])\n",
    "        xp_2 = x[k, 1] + Ts * dot_x2(x[k], u[k])\n",
    "\n",
    "        xp = [xp_1, xp_2]\n",
    "\n",
    "        x[k + 1, 0] = x[k, 0] + Ts / 2 * (dot_x1(x[k], u[k]) + dot_x1(xp, u[k + 1]))\n",
    "        x[k + 1, 1] = x[k, 1] + Ts / 2 * (dot_x2(x[k], u[k]) + dot_x2(xp, u[k + 1]))\n",
    "\n",
    "    for k in range(N - 1):\n",
    "        p[N - 2 - k, 0] = p[N - 1 - k, 0] - Ts * dot_p1(\n",
    "            x[N - 1 - k], p[N - 1 - k], u[N - 1 - k]\n",
    "        )\n",
    "        p[N - 2 - k, 1] = p[N - 1 - k, 1] - Ts * Ts * dot_p2(\n",
    "            x[N - 1 - k], p[N - 1 - k], u[N - 1 - k]\n",
    "        )\n",
    "\n",
    "    for k in range(N):\n",
    "        u_new = -p[k, 1] / 2\n",
    "        u[k] = w**iters * u[k] + (1 - w**iters) * u_new  # Radi brže konvergencije!\n",
    "\n",
    "    if sum(np.abs(u - u_old)) - eps * sum(np.abs(u)) <= 0:\n",
    "        break"
   ]
  },
  {
   "cell_type": "code",
   "execution_count": 11,
   "metadata": {},
   "outputs": [],
   "source": [
    "plt.rcParams[\"text.usetex\"] = True"
   ]
  },
  {
   "cell_type": "code",
   "execution_count": 12,
   "metadata": {},
   "outputs": [
    {
     "data": {
      "image/png": "[encoded data removed]",
      "text/plain": [
       "<Figure size 640x480 with 1 Axes>"
      ]
     },
     "metadata": {},
     "output_type": "display_data"
    }
   ],
   "source": [
    "plt.plot(t, x)\n",
    "plt.grid()\n",
    "plt.legend([r\"$x_{1}(t)$\", r\"$x_{2}(t)$\"])\n",
    "plt.xlabel(r\"$t$\")\n",
    "plt.savefig(\"z6_ss.png\", dpi=300)"
   ]
  },
  {
   "cell_type": "code",
   "execution_count": 14,
   "metadata": {},
   "outputs": [
    {
     "data": {
      "image/png": "[encoded data removed]",
      "text/plain": [
       "<Figure size 640x480 with 1 Axes>"
      ]
     },
     "metadata": {},
     "output_type": "display_data"
    }
   ],
   "source": [
    "plt.plot(t, u)\n",
    "plt.grid()\n",
    "plt.xlabel(r\"$t$\")\n",
    "plt.legend([r\"$u(t)$\"])\n",
    "plt.savefig(\"z6_control.png\", dpi=300)\n"
   ]
  },
  {
   "cell_type": "code",
   "execution_count": 15,
   "metadata": {},
   "outputs": [
    {
     "data": {
      "image/png": "[encoded data removed]",
      "text/plain": [
       "<Figure size 640x480 with 1 Axes>"
      ]
     },
     "metadata": {},
     "output_type": "display_data"
    }
   ],
   "source": [
    "plt.plot(t, p)\n",
    "plt.grid()\n",
    "plt.legend([r\"$p_{1}(t)$\", r\"$p_{2}(t)$\"])\n",
    "plt.xlabel(r\"$t$\")\n",
    "plt.savefig(\"z6_imp.png\", dpi=300)\n"
   ]
  }
 ],
 "metadata": {
  "kernelspec": {
   "display_name": "Python 3",
   "language": "python",
   "name": "python3"
  },
  "language_info": {
   "codemirror_mode": {
    "name": "ipython",
    "version": 3
   },
   "file_extension": ".py",
   "mimetype": "text/x-python",
   "name": "python",
   "nbconvert_exporter": "python",
   "pygments_lexer": "ipython3",
   "version": "3.12.8"
  }
 },
 "nbformat": 4,
 "nbformat_minor": 2
}
